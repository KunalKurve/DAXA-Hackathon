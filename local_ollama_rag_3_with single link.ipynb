{
 "cells": [
  {
   "cell_type": "markdown",
   "id": "d4d5cab6-515e-4dd6-95ae-6393f0c4435c",
   "metadata": {},
   "source": [
    "## collecting text "
   ]
  },
  {
   "cell_type": "code",
   "execution_count": 1,
   "id": "c2e8b999-83ba-484a-9b94-f56c201d2036",
   "metadata": {},
   "outputs": [],
   "source": [
    "# %pip install --q unstructured langchain\n",
    "# %pip install --q \"unstructured[all-docs]\""
   ]
  },
  {
   "cell_type": "code",
   "execution_count": 2,
   "id": "3c0e2f74-7c4b-4665-8d87-bc00656f31e0",
   "metadata": {},
   "outputs": [],
   "source": [
    "from langchain_community.document_loaders import UnstructuredPDFLoader\n",
    "from langchain_community.document_loaders import OnlinePDFLoader"
   ]
  },
  {
   "cell_type": "code",
   "execution_count": 4,
   "id": "ee24a1b4",
   "metadata": {},
   "outputs": [
    {
     "name": "stdout",
     "output_type": "stream",
     "text": [
      "Defaulting to user installation because normal site-packages is not writeable\n",
      "Collecting bs4\n",
      "  Downloading bs4-0.0.2-py2.py3-none-any.whl.metadata (411 bytes)\n",
      "Requirement already satisfied: beautifulsoup4 in c:\\programdata\\anaconda3\\lib\\site-packages (from bs4) (4.12.2)\n",
      "Requirement already satisfied: soupsieve>1.2 in c:\\programdata\\anaconda3\\lib\\site-packages (from beautifulsoup4->bs4) (2.5)\n",
      "Downloading bs4-0.0.2-py2.py3-none-any.whl (1.2 kB)\n",
      "Installing collected packages: bs4\n",
      "Successfully installed bs4-0.0.2\n"
     ]
    }
   ],
   "source": [
    "# # pip install googlesearch-python\n",
    "# !pip install bs4"
   ]
  },
  {
   "cell_type": "code",
   "execution_count": 14,
   "id": "4ab9f16c",
   "metadata": {},
   "outputs": [
    {
     "name": "stdout",
     "output_type": "stream",
     "text": [
      "https://en.wikipedia.org/wiki/Harry_Potter\n",
      "Result:\n",
      " \n",
      " Harry Potter is a series of seven fantasy novels written by British author J. K. Rowling. The novels chronicle the lives of a young wizard, Harry Potter, and his friends Hermione Granger and Ron Weasley, all of whom are students at Hogwarts School of Witchcraft and Wizardry. The main story arc concerns Harry's conflict with Lord Voldemort, a dark wizard who intends to become immortal, overthrow the wizard governing body known as the Ministry of Magic, and subjugate all wizards and Muggles (non-magical people).\n",
      " The series was originally published in English by Bloomsbury in the United Kingdom and Scholastic Press in the United States.  A series of many genres, including fantasy, drama, coming-of-age fiction, and the British school story (which includes elements of mystery, thriller, adventure, horror, and romance), the world of Harry Potter explores numerous themes and includes many cultural meanings and references.[1] Major themes in the series include prejudice, corruption, madness, and death.[2][3]\n",
      " Since the release of the first novel, Harry Potter and the Philosopher's Stone, on 26 June 1997, the books have found immense popularity, positive reviews, and commercial success worldwide. They have attracted a wide adult audience as well as younger readers, and are widely considered cornerstones of modern literature.[4][5] As of February 2023[update], the books have sold more than 600 million copies worldwide, making them the best-selling book series in history, and have been available in 85 languages.[6] The last four books consecutively set records as the fastest-selling books in history, with the final instalment selling roughly 2.7 million copies in the United Kingdom and 8.3 million copies in the United States within twenty-four hours of its release.\n",
      " The original seven books were adapted into an eight-part namesake film series by Warner Bros. Pictures. In 2016, the total value of the Harry Potter franchise was estimated at $25 billion,[7] making Harry Potter one of the highest-grossing media franchises of all time. Harry Potter and the Cursed Child is a play based on a story co-written by Rowling.\n",
      " The success of the books and films has allowed the Harry Potter franchise to expand with numerous derivative works, a travelling exhibition that premiered in Chicago in 2009, a studio tour in London that opened in 2012, a digital platform on which J. K. Rowling updates the series with new information and insight, and a trilogy of spin-off films premiering in November 2016 with Fantastic Beasts and Where to Find Them, among many other developments. Themed attractions, collectively known as The Wizarding World of Harry Potter, have been built at several Universal Destinations & Experiences amusement parks around the world.\n",
      " The series follows the life of a boy named Harry Potter. In the first book, Harry Potter and the Philosopher's Stone, Harry lives in a cupboard under the stairs in the house of the Dursleys, his aunt, uncle and cousin, who all treat him poorly. At the age of 11, Harry discovers that he is a wizard. He meets a half-giant named Hagrid who gives him a letter of acceptance to attend the Hogwarts School of Witchcraft and Wizardry. Harry learns that his parents, Lily and James Potter, also had magical powers, and were murdered by the dark wizard Lord Voldemort when Harry was a baby. When Voldemort attempted to kill Harry, his curse rebounded, seemingly killing Voldemort, and Harry survived with a lightning-shaped scar on his forehead. The event made Harry famous among the community of wizards and witches.\n",
      " Harry becomes a student at Hogwarts and is sorted into Gryffindor House. He gains the friendship of Ron Weasley, a member of a large but poor wizarding family, and Hermione Granger, a witch of non-magical, or Muggle, parentage. The trio develop an enmity with the rich pure-blood student Draco Malfoy. Harry encounters the school's headmaster, Albus Dumbledore; the potions professor, Severus Snape, who displays a dislike for him; and the Defence Against the Dark Arts teacher, Quirinus Quirrell. Quirrell turns out to be allied with Voldemort, who is still alive as a weak spirit. The first book concludes with Harry's confrontation with Voldemort, who, in his quest to regain a body, yearns to possess the Philosopher's Stone, a substance that bestows everlasting life.\n",
      " Harry Potter and the Chamber of Secrets describes Harry's second year at Hogwarts. Students are attacked and petrified by an unknown creature; wizards of Muggle parentage are the primary targets. The attacks appear related to the mythical Chamber of Secrets and resemble attacks fifty years earlier. Harry discovers an ability to speak the snake language Parseltongue, which he learns is rare and associated with the Dark Arts. When Hermione is attacked and Ron's younger sister, Ginny Weasley, abducted, Harry and Ron uncover the chamber's secrets and enter it. Harry discovers that Ginny was possessed by an old diary, inside which the memory of Tom Marvolo Riddle, Voldemort's younger self, resides. On Voldemort's behalf, Ginny opened the chamber and unleashed the basilisk, an ancient monster that kills or petrifies those who make direct or indirect eye contact, respectively. With the help of Dumbledore's phoenix, Fawkes, and the Sword of Gryffindor, Harry slays the basilisk and destroys the diary.\n",
      " In the third novel, Harry Potter and the Prisoner of Azkaban, Harry learns that he is targeted by Sirius Black, an escaped convict who allegedly assisted in his parents' murder. Dementors, creatures that feed on despair, search for Sirius and guards the school. As Harry struggles with his reaction to the dementors, he reaches out to Remus Lupin, a new professor who teaches him the Patronus charm. On a windy night, Ron is dragged by a black dog into the Shrieking Shack, a haunted house, and Harry and Hermione follow. The dog is revealed to be Sirius Black. Lupin enters the shack and explains that Sirius was James Potter's best friend; he was framed by another friend of James, Peter Pettigrew, who hides as Ron's pet rat, Scabbers. As the full moon rises, Lupin transforms into a werewolf and bounds away, and the group chase after him. They are surrounded by dementors, but are saved by a figure resembling James who casts a stag Patronus. This is later revealed to be a future version of Harry, who traveled back in time with Hermione using a device called a Time Turner. The duo help Sirius escape on a Hippogriff, while Pettigrew escapes.\n",
      " In Harry's fourth year of school (detailed in Harry Potter and the Goblet of Fire), Hogwarts hosts the Triwizard Tournament, a contest between Hogwarts and the schools Beauxbatons and Durmstrang. Harry is unwillingly entered into the contest, becoming Hogwarts' second participant after Cedric Diggory, an unusual occurrence that causes his friends to distance themselves from him. Harry claims the Triwizard Cup with Cedric, but he is teleported to a graveyard where Pettigrew kills Cedric, then resurrects Voldemort using Harry's blood. Voldemort convenes his supporters, the Death Eaters, and Harry manages to escape after a duel with Voldemort. Upon returning to Hogwarts, it is revealed that a Death Eater, Barty Crouch, Jr, in disguise as the new Defence Against the Dark Arts professor, Alastor \"Mad-Eye\" Moody, engineered Harry's entry into the tournament, secretly helped him, and had him teleported to Voldemort.\n",
      " In the fifth book, Harry Potter and the Order of the Phoenix, the Ministry of Magic refuses to believe that Voldemort has returned. Dumbledore re-activates the Order of the Phoenix, a secret society to counter Voldemort; meanwhile, the Ministry tightens control of Hogwarts by appointing Dolores Umbridge as High Inquisitor of Hogwarts, and she gradually increases her powers. When Umbridge bans practical teaching of Defence Against the Dark Arts, Harry, Ron and Hermione form \"Dumbledore's Army\", a secret group to continue the teachings. Harry has recurring dreams of a dark corridor in the Ministry of Magic, eventually dreaming that Sirius is being tortured there. He races to the Ministry with his friends, but it is a trap, planted in his head by Voldemort. The group are attacked by Death Eaters and saved by the Order of the Phoenix, but Sirius is killed in the battle. A duel between Dumbledore and Voldemort convinces the ministry of Voldemort's return. A prophecy concerning Harry and Voldemort is revealed: one must die at the hands of the other.\n",
      " In the sixth book, Harry Potter and the Half-Blood Prince, Snape teaches Defence Against the Dark Arts while Horace Slughorn becomes the Potions master. Harry finds an old textbook with annotations by the Half-Blood Prince, due to which he achieves success in Potions class. Harry also takes lessons with Dumbledore, viewing memories about the early life of Voldemort in a device called a Pensieve. Harry learns from a drunken Slughorn that he used to teach Tom Riddle, and that Voldemort divided his soul into pieces, creating a series of Horcruxes. Harry and Dumbledore travel to a distant lake to destroy a Horcrux; they succeed, but Dumbledore weakens. On their return, they find Draco Malfoy and Death Eaters attacking the school. The book ends with the killing of Dumbledore by Professor Snape, the titular Half-Blood Prince.\n",
      " In Harry Potter and the Deathly Hallows, the seventh and final novel in the series, Lord Voldemort gains control of the Ministry of Magic. Harry, Ron and Hermione learn about the Deathly Hallows, legendary items that lead to mastery over death. The group infiltrates the ministry, where they steal a locket Horcrux, and visit Godric's Hollow, where they are attacked by Nagini, Voldemort's snake. A silver doe Patronus leads them to the Sword of Gryffindor, with which they destroy the locket. They steal a Horcrux from Gringotts and travel to Hogwarts, culminating in a battle with the Death Eaters. Snape is killed by Voldemort out of paranoia, but he lends Harry his memories before he dies. Harry learns that Snape was always loyal to Dumbledore, and that Harry is himself a Horcrux. Harry surrenders to Voldemort and dies. The defenders of Hogwarts continue to fight on; Harry is resurrected, faces Voldemort and kills him.\n",
      " An epilogue titled \"Nineteen Years Later\" describes the lives of the surviving characters and the impact of Voldemort's death. Harry and Ginny are married with three children, and Ron and Hermione are married with two children.\n",
      " The novels fall into the genre of fantasy literature, and qualify as a type of fantasy called \"urban fantasy\", \"contemporary fantasy\", or \"low fantasy\". They are mainly dramas, and maintain a fairly serious and dark tone throughout, though they do contain some notable instances of tragicomedy and black humour. In many respects, they are also examples of the bildungsroman, or coming of age novel,[8] and contain elements of mystery, adventure, horror, thriller, and romance. The books are also, in the words of Stephen King, \"shrewd mystery tales\",[9] and each book is constructed in the manner of a Sherlock Holmes-style mystery adventure. The stories are told from a third person limited point of view with very few exceptions (such as the opening chapters of Philosopher's Stone, Goblet of Fire and Deathly Hallows and the first two chapters of Half-Blood Prince).\n",
      " The series can be considered part of the British children's boarding school genre, which includes Rudyard Kipling's Stalky & Co., Enid Blyton's Malory Towers, St. Clare's and the Naughtiest Girl series, and Frank Richards's Billy Bunter novels: the Harry Potter books are predominantly set in Hogwarts, a fictional British boarding school for wizards, where the curriculum includes the use of magic.[10] In this sense they are \"in a direct line of descent from Thomas Hughes's Tom Brown's School Days and other Victorian and Edwardian novels of British public school life\", though they are, as many note, more contemporary, grittier, darker, and more mature than the typical boarding school novel, addressing serious themes of death, love, loss, prejudice, coming-of-age, and the loss of innocence in a 1990s British setting.[11][12][failed verification]\n",
      " In Harry Potter, Rowling juxtaposes the extraordinary against the ordinary.[13] Her narrative features two worlds: a contemporary world inhabited by non-magical people called Muggles, and another featuring wizards. It differs from typical portal fantasy in that its magical elements stay grounded in the mundane.[14] Paintings move and talk; books bite readers; letters shout messages; and maps show live journeys, making the wizarding world both exotic and familiar.[13][15] This blend of realistic and romantic elements extends to Rowling's characters. Their names are often onomatopoeic[clarification needed]: Malfoy is difficult, Filch is unpleasant, and Lupin is a werewolf.[16][17] Harry is ordinary and relatable, with down-to-earth features such as wearing broken glasses;[18] the scholar Roni Natov terms him an \"everychild\".[19] These elements serve to highlight Harry when he is heroic, making him both an everyman and a fairytale hero.[18][20]\n",
      " Each of the seven books is set over the course of one school year. Harry struggles with the problems he encounters, and dealing with them often involves the need to violate some school rules. If students are caught breaking rules, they are often disciplined by Hogwarts professors. The stories reach their climax in the summer term, near or just after final exams, when events escalate far beyond in-school squabbles and struggles, and Harry must confront either Voldemort or one of his followers, the Death Eaters, with the stakes a matter of life and death – a point underlined, as the series progresses, by characters being killed in each of the final four books.[21][22] In the aftermath, he learns important lessons through exposition and discussions with head teacher and mentor Albus Dumbledore. The only exception to this school-centred setting is the final novel, Harry Potter and the Deathly Hallows, in which Harry and his friends spend most of their time away from Hogwarts, and only return there to face Voldemort at the dénouement.[21]\n",
      " The Harry Potter stories feature imagery and motifs drawn from Arthurian myth and fairytales. Harry's ability to draw the Sword of Gryffindor from the Sorting Hat resembles the Arthurian sword in the stone legend.[23] His life with the Dursleys has been compared to Cinderella.[24] Hogwarts resembles a medieval university-cum-castle with several professors who belong to an Order of Merlin; Old Professor Binns still lectures about the International Warlock Convention of 1289; and a real historical person, a 14th-century scribe, Sir Nicolas Flamel, is described as a holder of the Philosopher's Stone.[25] Other medieval elements in Hogwarts include coats-of-arms and medieval weapons on the walls, letters written on parchment and sealed with wax, the Great Hall of Hogwarts, which is similar to the Great Hall of Camelot, the use of Latin phrases, the tents put up for Quidditch tournaments, which are similar to the \"marvellous tents\" put up for knightly tournaments, imaginary animals like dragons and unicorns that exist around Hogwarts, and the banners with heraldic animals for the four Houses of Hogwarts.[25]\n",
      " Many of the motifs of the Potter stories, such as the hero's quest invoking objects that confer invisibility, magical animals and trees, a forest full of danger and the recognition of a character based upon scars, are drawn from medieval French Arthurian romances.[25] Other aspects borrowed from French Arthurian romances include the use of owls as messengers, werewolves as characters, and white deer.[25] The American scholars Heather Arden and Kathrn Lorenz in particular argue that many aspects of the Potter stories are inspired by a 14th-century French Arthurian romance, Claris et Laris, writing of the \"startling\" similarities between the adventures of Potter and the knight Claris.[25] Arden and Lorenz noted that Rowling graduated from the University of Exeter in 1986 with a degree in French literature and spent a year living in France afterwards.[25]\n",
      " Like C. S. Lewis's The Chronicles of Narnia, Harry Potter also contains Christian symbolism and allegory. The series has been viewed as a Christian moral fable in the psychomachia tradition, in which stand-ins for good and evil fight for supremacy over a person's soul.[26] Children's literature critic Joy Farmer sees parallels between Harry and Jesus Christ.[27] Comparing Rowling with Lewis, she argues that \"magic is both authors' way of talking about spiritual reality\".[28] According to Maria Nikolajeva, Christian imagery is particularly strong in the final scenes of the series: Harry dies in self-sacrifice and Voldemort delivers an \"ecce homo\" speech, after which Harry is resurrected and defeats his enemy.[29]\n",
      " Rowling stated that she did not reveal Harry Potter's religious parallels in the beginning because doing so would have \"give[n] too much away to fans who might then see the parallels\".[30] In the final book of the series, Harry Potter and the Deathly Hallows, Rowling makes the book's Christian imagery more explicit, quoting both Matthew 6:21 and 1 Corinthians 15:26 (King James Version) when Harry visits his parents' graves.[30] Hermione Granger teaches Harry Potter that the meaning of these verses from the Christian Bible are \"living beyond death. Living after death\", which Rowling states  \"epitomize the whole series\".[30][31][32] Rowling also exhibits Christian values in developing Albus Dumbledore as a God-like character, the divine, trusted leader of the series, guiding the long-suffering hero along his quest. In the seventh novel, Harry speaks with and questions the deceased Dumbledore much like a person of faith would talk to and question God.[33]\n",
      " Harry Potter's overarching theme is death.[34][35] In the first book, when Harry looks into the Mirror of Erised, he feels both joy and \"a terrible sadness\" at seeing his desire: his parents, alive and with him.[36] Confronting their loss is central to Harry's character arc and manifests in different ways through the series, such as in his struggles with Dementors.[36][37] Other characters in Harry's life die; he even faces his own death in Harry Potter and the Deathly Hallows.[38] The series has an existential perspective – Harry must grow mature enough to accept death.[39] In Harry's world, death is not binary but mutable, a state that exists in degrees.[40] Unlike Voldemort, who evades death by separating and hiding his soul in seven parts, Harry's soul is whole, nourished by friendship and love.[39]\n",
      " Love distinguishes Harry and Voldemort. Harry is a hero because he loves others, even willing to accept death to save them; Voldemort is a villain because he does not.[41] Harry carries the protection of his mother's sacrifice in his blood; Voldemort, who wants Harry's blood and the protection it carries, does not understand that love vanquishes death.[27]\n",
      " Rowling has spoken about thematising death and loss in the series. Soon after she started writing Philosopher's Stone, her mother died; she said that \"I really think from that moment on, death became a central, if not the central theme of the seven books\".[42] Rowling has described Harry as \"the prism through which I view death\", and further stated that \"all of my characters are defined by their attitude to death and the possibility of death\".[43]\n",
      " While Harry Potter can be viewed as a story about good vs. evil, its moral divisions are not absolute.[44][45] First impressions of characters are often misleading. Harry assumes in the first book that Quirrell is on the side of good because he opposes Snape, who appears to be malicious; in reality, Quirrell is an agent of Voldemort, while Snape is loyal to Dumbledore. This pattern later recurs with Moody and Snape.[44] In Rowling's world, good and evil are choices rather than inherent attributes: second chances and the possibility of redemption are key themes of the series.[46][47] This is reflected in Harry's self-doubts after learning his connections to Voldemort, such as Parseltongue;[46] and prominently in Snape's characterisation, which has been described as complex and multifaceted.[48] In some scholars' view, while Rowling's narrative appears on the surface to be about Harry, her focus may actually be on Snape's morality and character arc.[49][50]\n",
      " Rowling said that, to her, the moral significance of the tales seems \"blindingly obvious\". In the fourth book, Dumbledore speaks of a \"choice between what is right and what is easy\"; Rowling views this as a key theme, \"because that ... is how tyranny is started, with people being apathetic and taking the easy route and suddenly finding themselves in deep trouble\".[51]\n",
      " Academics and journalists have developed many other interpretations of themes in the books, some more complex than others, and some including political subtexts. Themes such as normality, oppression, survival, and overcoming imposing odds have all been considered as prevalent throughout the series.[52] Similarly, the theme of making one's way through adolescence and \"going over one's most harrowing ordeals – and thus coming to terms with them\" has also been considered.[53] Rowling has stated that the books comprise \"a prolonged argument for tolerance, a prolonged plea for an end to bigotry\" and that they also pass on a message to \"question authority and... not assume that the establishment or the press tells you all of the truth\".[54]\n",
      " In 1990, Rowling was on a crowded train from Manchester to London when the idea for Harry suddenly \"fell into\" her head. Rowling gives an account of the experience on her website saying:[55]\n",
      " I had been writing almost continuously since the age of six but I had never been so excited about an idea before. I simply sat and thought, for four (delayed train) hours, and all the details bubbled up in my brain, and this scrawny, black-haired, bespectacled boy who did not know he was a wizard became more and more real to me. Rowling completed Harry Potter and the Philosopher's Stone in 1995 and the manuscript was sent off to several prospective agents.[56] The second agent she tried, Christopher Little, offered to represent her and sent the manuscript to several publishers.[57]\n",
      " After twelve other publishers had rejected Philosopher's Stone, Bloomsbury agreed to publish the book.[59] Despite Rowling's statement that she did not have any particular age group in mind when beginning to write the Harry Potter books, the publishers initially targeted children aged nine to eleven.[60] On the eve of publishing, Rowling was asked by her publishers to adopt a more gender-neutral pen name in order to appeal to the male members of this age group, fearing that they would not be interested in reading a novel they knew to be written by a woman. She elected to use J. K. Rowling (Joanne Kathleen Rowling), using her grandmother's name as her second name because she has no middle name.[61][62]\n",
      " Harry Potter and the Philosopher's Stone was published by Bloomsbury, the publisher of all Harry Potter books in the United Kingdom, on 26 June 1997.[63] It was released in the United States on 1 September 1998 by Scholastic – the American publisher of the books – as Harry Potter and the Sorcerer's Stone,[64] after the American rights sold for US$105,000 – a record amount for a children's book by an unknown author.[65] Scholastic feared that American readers would not associate the word \"philosopher\" with magic, and Rowling suggested the title Harry Potter and the Sorcerer's Stone for the American market.[66] Rowling has later said that she regrets the change.[67]\n",
      " The second book, Harry Potter and the Chamber of Secrets, was originally published in the UK on 2 July 1998 and in the US on 2 June 1999. Harry Potter and the Prisoner of Azkaban was published a year later in the UK on 8 July 1999 and in the US on 8 September 1999.[68] Harry Potter and the Goblet of Fire was published on 8 July 2000 at the same time by Bloomsbury and Scholastic.[69] Harry Potter and the Order of the Phoenix is the longest book in the series, at 766 pages in the UK version and 870 pages in the US version.[70] It was published worldwide in English on 21 June 2003.[71] Harry Potter and the Half-Blood Prince was published on 16 July 2005.[72][73] The seventh and final novel, Harry Potter and the Deathly Hallows, was published on 21 July 2007.[74] Rowling herself has stated that the last chapter of the final book (in fact, the epilogue) was completed \"in something like 1990\".[75]\n",
      " Rowling retained rights to digital editions and released them on the Pottermore website in 2012. Vendors such as Amazon displayed the ebooks in the form of links to Pottermore, which controlled pricing.[76] All seven Harry Potter novels have been released in unabridged audiobook versions, with Stephen Fry reading the British editions and Jim Dale voicing the series for the American editions.[77][78] On Audible, the series has been listened, as of November 2022, for over a billion hours.[79]\n",
      " The series has been translated into more than 80 languages,[6] placing Rowling among the most translated authors in history. The books have seen translations to diverse languages such as Korean, Armenian, Ukrainian, Arabic, Urdu, Hindi, Bengali, Bulgarian, Welsh, Afrikaans, Albanian, Latvian, Vietnamese and Hawaiian. The first volume has been translated into Latin and even Ancient Greek,[80] making it the longest published work in Ancient Greek since the novels of Heliodorus of Emesa in the 3rd century AD.[81] The second volume has also been translated into Latin.[82]\n",
      " Some of the translators hired to work on the books were well-known authors before their work on Harry Potter, such as Viktor Golyshev, who oversaw the Russian translation of the series' fifth book. The Turkish translation of books two to seven was undertaken by Sevin Okyay, a popular literary critic and cultural commentator.[83] For reasons of secrecy, translation on a given book could only start after it had been released in English, leading to a lag of several months before the translations were available. This led to more and more copies of the English editions being sold to impatient fans in non-English speaking countries; for example, such was the clamour to read Harry Potter and the Order of the Phoenix that its English language edition became the first English-language book ever to top the best-seller list in France.[84]\n",
      " The United States editions were adapted into American English to make them more understandable to a young American audience.[85]\n",
      " For cover art, Bloomsbury chose painted art in a classic style of design, with the first cover a watercolour and pencil drawing by illustrator Thomas Taylor showing Harry boarding the Hogwarts Express, and a title in the font Cochin Bold.[86] The first releases of the successive books in the series followed in the same style but somewhat more realistic, illustrating scenes from the books. These covers were created by first Cliff Wright and then Jason Cockroft.[87]\n",
      " Due to the appeal of the books among an adult audience, Bloomsbury commissioned a second line of editions in an 'adult' style. These initially used black-and-white photographic art for the covers showing objects from the books (including a very American Hogwarts Express) without depicting people, but later shifted to partial colourisation with a picture of Slytherin's locket on the cover of the final book.[citation needed]\n",
      " International and later editions have been created by a range of designers, including Mary GrandPré for US audiences and Mika Launis in Finland.[88][89] For a later American release, Kazu Kibuishi created covers in a somewhat anime-influenced style.[90][91]\n",
      " The popularity of the Harry Potter series has translated into substantial financial success for Rowling, her publishers, and other Harry Potter related license holders. This success has made Rowling the first and thus far only billionaire author.[92] The books have sold more than 600 million copies worldwide and have also given rise to the popular film adaptations produced by Warner Bros. Pictures, all of which have been highly successful in their own right.[93][6] The total revenue from the book sales is estimated, as of November 2018, to be around $7.7 billion.[94] The first novel in the series, Harry Potter and the Philosopher's Stone, has sold in excess of 120 million copies, making it one of the bestselling books in history.[95][96] The films have in turn spawned eight video games and have led to the licensing of more than 400 additional Harry Potter products. The Harry Potter brand has been estimated to be worth as much as $25 billion.[7]\n",
      " The great demand for Harry Potter novels motivated The New York Times to create a separate best-seller list for children's literature in 2000, just before the release of Harry Potter and the Goblet of Fire. By 24 June 2000, Rowling's novels had been on the list for 79 straight weeks; the first three novels were each on the hardcover best-seller list.[97] On 12 April 2007, Barnes & Noble declared that Deathly Hallows had broken its pre-order record, with more than 500,000 copies pre-ordered through its site.[98] For the release of Goblet of Fire, 9,000 FedEx trucks were used with no other purpose than to deliver the book.[99] Together, Amazon.com and Barnes & Noble pre-sold more than 700,000 copies of the book.[99] In the United States, the book's initial printing run was 3.8 million copies.[99] This record statistic was broken by Harry Potter and the Order of the Phoenix, with 8.5 million, which was then shattered by Half-Blood Prince with 10.8 million copies.[100] Within the first 24 hours of its release, 6.9 million copies of Prince were sold in the US; in the UK more than two million copies were sold on the first day.[101] The initial US print run for Deathly Hallows was 12 million copies, and more than a million were pre-ordered through Amazon and Barnes & Noble.[102]\n",
      " Fans of the series were so eager for the latest instalment that bookstores around the world began holding events to coincide with the midnight release of the books, beginning with the 2000 publication of Harry Potter and the Goblet of Fire. The events, commonly featuring mock sorting, games, face painting, and other live entertainment have achieved popularity with Potter fans and have been highly successful in attracting fans and selling books with nearly nine million of the 10.8 million initial print copies of Harry Potter and the Half-Blood Prince sold in the first 24 hours.[103][104] \n",
      "The final book in the series, Harry Potter and the Deathly Hallows became the fastest selling book in history, moving 11 million units in the first twenty-four hours of release.[105] The book sold 2.7 million copies in the UK and 8.3 million in the US.[73] The series has also gathered adult fans, leading to the release of two editions of each Harry Potter book, identical in text but with one edition's cover artwork aimed at children and the other aimed at adults.[106]\n",
      " Early in its history, Harry Potter received positive reviews. On publication, the first book, Harry Potter and the Philosopher's Stone, attracted attention from the Scottish newspapers, such as The Scotsman, which said it had \"all the makings of a classic\",[108] and The Glasgow Herald, which called it \"Magic stuff\".[108] Soon the English newspapers joined in, with The Sunday Times comparing it to Roald Dahl's work (\"comparisons to Dahl are, this time, justified\"),[108] while The Guardian called it \"a richly textured novel given lift-off by an inventive wit\".[108]\n",
      " By the time of the release of the fifth book, Harry Potter and the Order of the Phoenix, the books began to receive strong criticism from a number of literary scholars. Yale professor, literary scholar, and critic Harold Bloom raised criticisms of the books' literary merits, saying, \"Rowling's mind is so governed by clichés and dead metaphors that she has no other style of writing.\"[109] A. S. Byatt authored an op-ed article in The New York Times calling Rowling's universe a \"secondary secondary world, made up of intelligently patchworked derivative motifs from all sorts of children's literature ... written for people whose imaginative lives are confined to TV cartoons, and the exaggerated (more exciting, not threatening) mirror-worlds of soaps, reality TV and celebrity gossip.\"[110]\n",
      " Michael Rosen, a novelist and poet, held the opinion that the books were not suited for children, as they would be unable to grasp the complex themes. Rosen also stated that \"J. K. Rowling is more of an adult writer.\"[111] The critic Anthony Holden wrote in The Observer on his experience of judging Harry Potter and the Prisoner of Azkaban for the 1999 Whitbread Awards. His overall view of the series was negative – \"the Potter saga was essentially patronising, conservative, highly derivative, dispiritingly nostalgic for a bygone Britain\", and he speaks of \"a pedestrian, ungrammatical prose style\".[112] Ursula K. Le Guin said, \"I have no great opinion of it [...] it seemed a lively kid's fantasy crossed with a 'school novel,' good fare for its age group, but stylistically ordinary, imaginatively derivative, and ethically rather mean-spirited.\"[113] By contrast, author Fay Weldon, while admitting that the series is \"not what the poets hoped for\", nevertheless goes on to say, \"but this is not poetry, it is readable, saleable, everyday, useful prose\".[114]\n",
      " The literary critic A. N. Wilson praised the Harry Potter series in The Times, stating, \"There are not many writers who have JK's Dickensian ability to make us turn the pages, to weep – openly, with tears splashing – and a few pages later to laugh, at invariably good jokes ... We have lived through a decade in which we have followed the publication of the liveliest, funniest, scariest and most moving children's stories ever written.\"[115] Charles Taylor of Salon.com, who is primarily a movie critic,[116] took issue with Byatt's criticisms in particular. While he conceded that she may have \"a valid cultural point – a teeny one – about the impulses that drive us to reassuring pop trash and away from the troubling complexities of art\",[117] he rejected her claims that the series is lacking in serious literary merit and that it owes its success merely to the childhood reassurances it offers.[117] Stephen King called the series \"a feat of which only a superior imagination is capable\", and declared \"Rowling's punning, one-eyebrow-cocked sense of humor\" to be \"remarkable\". However, he wrote that he is \"a little tired of discovering Harry at home with his horrible aunt and uncle\", the formulaic beginning of all seven books.[9][118]\n",
      " Sameer Rahim of The Daily Telegraph disagreed, saying \"It depresses me to see 16- and 17-year-olds reading the series when they could be reading the great novels of childhood such as Oliver Twist or A House for Mr Biswas.\"[119] The Washington Post book critic Ron Charles opined in July 2007 that \"through no fault of Rowling's\", the cultural and marketing \"hysteria\" marked by the publication of the later books \"trains children and adults to expect the roar of the coliseum, a mass-media experience that no other novel can possibly provide\".[120] Jenny Sawyer wrote in The Christian Science Monitor on 25 July 2007 that Harry Potter neither faces a \"moral struggle\" nor undergoes any ethical growth and is thus \"no guide in circumstances in which right and wrong are anything less than black and white\".[121] In contrast Emily Griesinger described Harry's first passage through to Platform 9+3⁄4 as an application of faith and hope, and his encounter with the Sorting Hat as the first of many in which Harry is shaped by the choices he makes.[122]\n",
      " In an 8 November 2002, Slate article, Chris Suellentrop likened Potter to a \"trust-fund kid whose success at school is largely attributable to the gifts his friends and relatives lavish upon him\".[123] In a 12 August 2007 review of Deathly Hallows in The New York Times, however, Christopher Hitchens praised Rowling for \"unmooring\" her \"English school story\" from literary precedents \"bound up with dreams of wealth and class and snobbery\", arguing that she had instead created \"a world of youthful democracy and diversity\".[124]\n",
      "In 2016, an article written by Diana C. Mutz compared the politics of Harry Potter to the 2016 Donald Trump presidential campaign. She suggests that these themes are also present in the presidential election and it may play a significant role in how Americans have responded to the campaign.[125]\n",
      " There is ongoing discussion regarding the extent to which the series was inspired by Tolkien's Lord of the Rings books.[126]\n",
      " The portrayal of women in Harry Potter has been described as complex and varied, but nonetheless conforming to stereotypical and patriarchal depictions of gender.[127] Gender divides are ostensibly absent in the books: Hogwarts is coeducational and women hold positions of power in wizarding society. However, this setting obscures the typecasting of female characters and the general depiction of conventional gender roles.[128] According to scholars Elizabeth Heilman and Trevor Donaldson, the subordination of female characters goes further early in the series. The final three books \"showcase richer roles and more powerful females\": for instance, the series' \"most matriarchal character\", Molly Weasley, engages substantially in the final battle of Deathly Hallows, while other women are shown as leaders.[129] Hermione Granger, in particular, becomes an active and independent character essential to the protagonists' battle against evil.[130] Yet, even particularly capable female characters such as Hermione and Minerva McGonagall are placed in supporting roles,[131] and Hermione's status as a feminist model is debated.[132] Girls and women are more frequently shown as emotional, more often defined by their appearance, and less often given agency in family settings.[128][133]\n",
      " The social hierarchy of wizards in Rowling's world has drawn debate among critics. \"Purebloods\" have two wizard parents; \"half-bloods\" have one; and \"Muggle-born\" wizards have magical abilities, although neither of their parents is a wizard.[134] Lord Voldemort and his followers believe that blood purity is paramount and that Muggles are subhuman.[135] According to the literary scholar Andrew Blake, Harry Potter rejects blood purity as a basis for social division;[136] Suman Gupta agrees that Voldemort's philosophy represents \"absolute evil\";[137] and Nel and Eccleshare agree that advocates of racial or blood-based hierarchies are antagonists.[138][139] Gupta, following Blake,[140] suggests that the essential superiority of wizards over Muggles — wizards can use magic and Muggles cannot – means that the books cannot coherently reject anti-Muggle prejudice by appealing to equality between wizards and Muggles. Rather, according to Gupta, Harry Potter models a form of tolerance based on the \"charity and altruism of those belonging to superior races\" towards lesser races.[141]\n",
      " Harry Potter's's depiction of race, specifically the slavery of house-elves, has received varied responses. Scholars such as Brycchan Carey have praised the books' abolitionist sentiments, viewing Hermione's Society for the Promotion of Elfish Welfare as a model for younger readers' political engagement.[142][143] Other critics including Farah Mendlesohn find the portrayal of house-elves \"most difficult to accept\": the elves are denied the right to free themselves and rely on the benevolence of others like Hermione.[144][145] Pharr terms the house-elves a disharmonious element in the series, writing that Rowling leaves their fate hanging;[146] at the end of Deathly Hallows, the elves remain enslaved and cheerful.[147] The goblins of the world of Harry Potter have also received criticism for following antisemitic caricatures – particularly for their grotesque \"hook-nosed\" portrayal in the films, an appearance associated with Jewish stereotypes.[148][149][150]\n",
      " The books have been the subject of a number of legal proceedings, stemming from various conflicts over copyright and trademark infringements. The popularity and high market value of the series has led Rowling, her publishers, and film distributor Warner Bros. to take legal measures to protect their copyright, which have included banning the sale of Harry Potter imitations, targeting the owners of websites over the \"Harry Potter\" domain name, and suing author Nancy Stouffer to counter her accusations that Rowling had plagiarised her work.[151][152][153]\n",
      " Various religious fundamentalists have claimed that the books promote witchcraft and religions such as Wicca and are therefore unsuitable for children,[154][155][156] while a number of critics have criticised the books for promoting various political agendas.[157][158] The series has landed the American Library Associations' Top 10 Banned Book List in 2001, 2002, 2003, and 2019 with claims it was anti-family, discussed magic and witchcraft, contained actual spells and curses, referenced the occult/Satanism, violence, and had characters who used \"nefarious means\" to attain goals, as well as conflicts with religious viewpoints.[159]\n",
      " The books also aroused controversies in the literary and publishing worlds. From 1997 to 1998, Harry Potter and the Philosopher's Stone won almost all the United Kingdom awards judged by children, but none of the children's book awards judged by adults,[160] and Sandra Beckett suggested the reason was intellectual snobbery towards books that were popular among children.[161] In 1999, the winner of the Whitbread Book of the Year award children's division was entered for the first time on the shortlist for the main award, and one judge threatened to resign if Harry Potter and the Prisoner of Azkaban was declared the overall winner; it finished second, very close behind the winner of the poetry prize, Seamus Heaney's translation of the Anglo-Saxon epic Beowulf.[161]\n",
      " In 2000, shortly before the publication of Harry Potter and the Goblet of Fire, the previous three Harry Potter books topped The New York Times fiction best-seller list and a third of the entries were children's books. The newspaper created a new children's section covering children's books, including both fiction and non-fiction, and initially counting only hardback sales. The move was supported by publishers and booksellers.[97] In 2004, The New York Times further split the children's list, which was still dominated by Harry Potter books, into sections for series and individual books and removed the Harry Potter books from the section for individual books.[162] The split in 2000 attracted condemnation, praise and some comments that presented both benefits and disadvantages of the move.[163] Time suggested that, on the same principle, Billboard should have created a separate \"mop-tops\" list in 1964 when the Beatles held the top five places in its list, and Nielsen should have created a separate game-show list when Who Wants to Be a Millionaire? dominated the ratings.[164]\n",
      " Harry Potter transformed children's literature.[165][166] In the 1970s, children's books  were generally realistic as opposed to fantastic,[167] while adult fantasy became popular because of the influence of The Lord of the Rings.[168] The next decade saw an increasing interest in grim, realist themes, with an outflow of fantasy readers and writers to adult works.[169][170]\n",
      " The commercial success of Harry Potter reversed this trend.[171] The scale of its growth had no precedent in the children's market: within four years of the series' inception, it occupied 28% of that field by revenue.[172] Children's literature rose in cultural status,[173] and fantasy became a dominant genre.[174] Older works in the genre, including Diana Wynne Jones's Chrestomanci series and Diane Duane's Young Wizards, were reprinted and rose in popularity; some authors re-established their careers.[175] In the following decades, many Harry Potter imitators and subversive responses grew popular.[176][177]\n",
      " Rowling has been compared to Enid Blyton, who also wrote in simple language about groups of children and long held sway over the British children's market.[178][179] She has also been described as an heir to Roald Dahl.[180] Some critics view Harry Potter's rise, along with the concurrent success of Philip Pullman's His Dark Materials, as part of a broader shift in reading tastes: a rejection of literary fiction in favour of plot and adventure.[181] This is reflected in the BBC's 2003 \"Big Read\" survey of the UK's favourite books, where Pullman and Rowling ranked at numbers 3 and 5, respectively, with very few British literary classics in the top 10.[182]\n",
      " Harry Potter has been described as a cultural phenomenon.[183][184] The word \"Muggle\" has spread beyond its origins in the books, entering the Oxford English Dictionary in 2003.[185]\n",
      "A real-life version of the sport Quidditch was created in 2005 and featured as an exhibition tournament in the 2012 London Olympics.[186] Characters and elements from the series have inspired scientific names of several organisms, including the dinosaur Dracorex hogwartsia, the spider Eriovixia gryffindori, the wasp Ampulex dementor, and the crab Harryplax severus.[187]\n",
      " Librarian Nancy Knapp pointed out the books' potential to improve literacy by motivating children to read much more than they otherwise would.[188] The seven-book series has a word count of 1,083,594 (US edition). Agreeing about the motivating effects, Diane Penrod also praised the books' blending of simple entertainment with \"the qualities of highbrow literary fiction\", but expressed concern about the distracting effect of the prolific merchandise that accompanies the book launches.[189] However, the assumption that Harry Potter books have increased literacy among young people is \"largely a folk legend\".[190]\n",
      " Research by the National Endowment for the Arts (NEA) has found no increase in reading among children coinciding with the Harry Potter publishing phenomenon, nor has the broader downward trend in reading among Americans been arrested during the rise in the popularity of the Harry Potter books.[190][191] The research also found that children who read Harry Potter books were not more likely to go on to read outside the fantasy and mystery genres.[190] NEA chairman Dana Gioia said the series, \"got millions of kids to read a long and reasonably complex series of books. The trouble is that one Harry Potter novel every few years is not enough to reverse the decline in reading.\"[192]\n",
      " Many fan fiction and fan art works about Harry Potter have been made. In March 2007, \"Harry Potter\" was the most commonly searched fan fiction subject on the internet.[193]\n",
      "Jennifer Conn used Snape's and Quidditch coach Madam Hooch's teaching methods as examples of what to avoid and what to emulate in clinical teaching,[194] and Joyce Fields wrote that the books illustrate four of the five main topics in a typical first-year sociology class: \"sociological concepts including culture, society, and socialisation; stratification and social inequality; social institutions; and social theory\".[195]\n",
      " From the early 2000s onwards, several news reports appeared in the UK of the Harry Potter book and movie series driving demand for pet owls,[196] and even reports that after the end of the movie series these same pet owls were now being abandoned by their owners.[197] This led J. K. Rowling to issue several statements urging Harry Potter fans to refrain from purchasing pet owls.[198] Despite the media flurry, research into the popularity of Harry Potter and sales of owls in the UK failed to find any evidence that the Harry Potter franchise had influenced the buying of owls in the country or the number of owls reaching animal shelters and sanctuaries.[199]\n",
      " The Harry Potter series has been recognised by a host of awards since the initial publication of Philosopher's Stone including a platinum award from the Whitaker Gold and Platinum Book Awards ( 2001),[200][201] three Nestlé Smarties Book Prizes (1997–1999),[202] two Scottish Arts Council Book Awards (1999 and 2001),[203] the inaugural Whitbread children's book of the year award (1999),[204] and the WHSmith book of the year (2006),[205] among others. In 2000, Harry Potter and the Prisoner of Azkaban was nominated for a Hugo Award for Best Novel, and in 2001, Harry Potter and the Goblet of Fire won said award.[206] Honours include a commendation for the Carnegie Medal (1997),[207] a short listing for the Guardian Children's Award (1998), and numerous listings on the notable books, editors' Choices, and best books lists of the American Library Association, The New York Times, Chicago Public Library, and Publishers Weekly.[208]\n",
      " In 2002, sociologist Andrew Blake named Harry Potter a British pop culture icon along with the likes of James Bond and Sherlock Holmes.[209] In 2003, four of the books were named in the top 24 of the BBC's The Big Read survey of the best loved novels in the UK.[210] A 2004 study found that books in the series were commonly read aloud in elementary schools in San Diego County, California.[211] Based on a 2007 online poll, the US National Education Association listed the series in its \"Teachers' Top 100 Books for Children\".[212] Time magazine named Rowling as a runner-up for its 2007 Person of the Year award, noting the social, moral, and political inspiration she has given her fandom.[213] Three of the books placed among the \"Top 100 Chapter Books\" of all time, or children's novels, in a 2012 survey published by School Library Journal: Sorcerer's Stone ranked number three, Prisoner of Azkaban 12th, and Goblet of Fire 98th.[214]\n",
      " In 2007, the seven Harry Potter book covers were depicted on a series of UK postage stamps issued by Royal Mail.[215] In 2012, the opening ceremony of the 2012 Summer Olympics in London featured a 100-foot tall rendition of Lord Voldemort in a segment designed to showcase the UK's cultural icons.[216] In November 2019, the BBC listed the Harry Potter series on its list of the 100 most influential novels.[217]\n",
      " In 1999, Rowling sold the film rights for Harry Potter to Warner Bros. for a reported £1 million (US$2,000,000).[218][219]\n",
      "Rowling had creative control on the film series, observing the filmmaking process of Philosopher's Stone and serving as producer on the two-part Deathly Hallows, alongside David Heyman and David Barron.[220] Rowling demanded the principal cast be kept strictly British and Irish, nonetheless allowing for the inclusion or French and Eastern European actors where characters from the book are specified as such.[221]\n",
      " Chris Columbus was selected as the director for Harry Potter and the Philosopher's Stone (titled \"Harry Potter and the Sorcerer's Stone\" in the United States).[222] Philosopher's Stone was released on 14 November 2001. Just three days after the film's release, production for Harry Potter and the Chamber of Secrets, also directed by Columbus, began and the film was released on 15 November 2002.[223] Columbus declined to direct Harry Potter and the Prisoner of Azkaban, only acting as producer. Mexican director Alfonso Cuarón took over the job, and after shooting in 2003, the film was released on 4 June 2004. Due to the fourth film beginning its production before the third's release, Mike Newell was chosen as the director for Harry Potter and the Goblet of Fire, released on 18 November 2005.[224] Newell became the first British director of the series, with television director David Yates following suit after he was chosen to helm Harry Potter and the Order of the Phoenix. Production began in January 2006 and the film was released the following year in July 2007.[225] Yates was selected to direct Harry Potter and the Half-Blood Prince, which was released on 15 July 2009.[226][227] The final instalment in the series, Harry Potter and the Deathly Hallows was released in two cinematic parts: Part 1 on 19 November 2010 and Part 2 on 15 July 2011.[228][229]\n",
      " A prequel series is planned to consist of five films, taking place before the main series.[230] The first film Fantastic Beasts and Where to Find Them was released in November 2016, followed by the second Fantastic Beasts: The Crimes of Grindelwald in November 2018 and Fantastic Beasts: The Secrets of Dumbledore in April 2022. Rowling wrote the screenplay for all three films,[231] marking her foray into screenwriting.\n",
      " A number of non-interactive media games and board games have been released such as Cluedo Harry Potter Edition, Scene It? Harry Potter and Lego Harry Potter models, which are influenced by the themes of both the novels and films.\n",
      " There are fourteen Harry Potter video games, eight corresponding with the films and books and six spin-offs. The film/book-based games are produced by Electronic Arts (EA), as was Harry Potter: Quidditch World Cup, with the game version of the first entry in the series, Philosopher's Stone, being released in November 2001. Harry Potter and the Philosopher's Stone went on to become one of the best-selling PlayStation games ever.[232] The video games were released to coincide with the films. Objectives usually occur in and around Hogwarts. The story and design of the games follow the selected film's characterisation and plot; EA worked closely with Warner Bros. to include scenes from the films. The last game in the series, Deathly Hallows, was split, with Part 1 released in November 2010 and Part 2 debuting on consoles in July 2011.[233][234]\n",
      " The spin-off games Lego Harry Potter: Years 1–4 and Lego Harry Potter: Years 5–7 were developed by Traveller's Tales and published by Warner Bros. Interactive Entertainment. The spin-off games Book of Spells and Book of Potions were developed by London Studio and use the Wonderbook, an augmented reality book designed to be used in conjunction with the PlayStation Move and PlayStation Eye.[235] The Harry Potter universe is also featured in Lego Dimensions, with the settings and side characters featured in the Harry Potter Adventure World, and Harry, Voldemort, and Hermione as playable characters. In 2017, Warner Bros. Interactive Entertainment opened its own Harry Potter-themed game design studio, by the name of Portkey Games, before releasing Hogwarts Mystery, developed by Jam City, in 2018 and Hogwarts Legacy, developed by Avalanche Software, in 2023.[236][237]\n",
      " Harry Potter and the Cursed Child: Parts I and II is a play which serves as a sequel to the books, beginning nineteen years after the events of Harry Potter and the Deathly Hallows. It was written by Jack Thorne based on an original new story by Thorne, Rowling and John Tiffany.[238] It has run at the Palace Theatre in London's West End since previews began on 7 June 2016 with an official premiere on 30 June 2016.[239] The first four months of tickets for the June–September performances were sold out within several hours upon release.[240] Forthcoming productions are planned for Broadway[241] and Melbourne.[242]\n",
      " The script was released as a book at the time of the premiere, with a revised version following the next year.\n",
      " On 25 January 2021, it was reported that a live-action television series has been in early development at HBO Max. Though it was noted that the series has \"complicated rights issues\", due to a seven-year rights deal with Warner Bros. Domestic TV Distribution that included US broadcast, cable and streaming rights to the franchise, which ends in April 2025.[243] On 12 April 2023, the series was confirmed to be in development, and will be streamed on the new streaming service Max (formerly known as HBO Max).[244][245]On 23 February 2024, Warner Bros. Discovery CEO David Zaslav announced that the series would debut on Max in 2026.[246]\n",
      " Universal and Warner Brothers created The Wizarding World of Harry Potter, a Harry Potter-themed expansion to the Islands of Adventure theme park at Universal Orlando Resort in Florida. It opened to the public on 18 June 2010.[247] It includes a re-creation of Hogsmeade and several rides; its flagship attraction is Harry Potter and the Forbidden Journey, which exists within a re-creation of Hogwarts School of Witchcraft and Wizardry.[248]\n",
      " In 2014 Universal opened a Harry Potter-themed area at the Universal Studios Florida theme park. It includes a re-creation of Diagon Alley.[249] The flagship attraction is the Harry Potter and the Escape from Gringotts roller coaster ride.[250] A completely functioning full-scale replica of the Hogwarts Express was created for the Diagon Alley expansion, connecting King's Cross Station at Universal Studios to the Hogsmeade station at Islands of Adventure.[251][252] The Wizarding World of Harry Potter opened at the Universal Studios Hollywood theme park near Los Angeles, California in 2016,[253][254] and in Universal Studios Japan theme park in Osaka, Japan in 2014. The Osaka venue includes the village of Hogsmeade, Harry Potter and the Forbidden Journey ride, and Flight of the Hippogriff roller coaster.[255][256]\n",
      " The Making of Harry Potter is a behind-the-scenes walking tour in London featuring authentic sets, costumes and props from the film series. The attraction is located at Warner Bros. Studios, Leavesden, where all eight of the Harry Potter films were made. Warner Bros. constructed two new sound stages to house and showcase the sets from each of the British-made productions, following a £100 million investment.[257] It opened to the public in March 2012.[258]\n",
      " Rowling expanded the Harry Potter universe with short books produced for charities.[259][260] In 2001, she released Fantastic Beasts and Where to Find Them (a purported Hogwarts textbook) and Quidditch Through the Ages (a book Harry reads for fun). Proceeds from the sale of these two books benefited the charity Comic Relief.[261] In 2007, Rowling composed seven handwritten copies of The Tales of Beedle the Bard, a collection of fairy tales that is featured in the final novel, one of which was auctioned to raise money for the Children's High Level Group, a fund for mentally disabled children in poor countries. The book was published internationally on 4 December 2008.[262][263] Rowling also wrote an 800-word prequel in 2008 as part of a fundraiser organised by the bookseller Waterstones.[264] All three of these books contain extra information about the wizarding world not included in the original novels.\n",
      " In 2016, she released three new e-books: Hogwarts: An Incomplete and Unreliable Guide, Short Stories from Hogwarts of Power, Politics and Pesky Poltergeists\n",
      "and Short Stories from Hogwarts of Heroism, Hardship and Dangerous Hobbies.[265]\n",
      " \n",
      "Rowling's website Pottermore was launched in 2012.[266] Pottermore allows users to be sorted, be chosen by their wand and play various minigames. The main purpose of the website was to allow the user to journey through the story with access to content not revealed by JK Rowling previously, with over 18,000 words of additional content.[267] The site was redesigned in 2015 as WizardingWorld and it mainly focuses on the information already available, rather than exploration.[268]\n",
      "\n"
     ]
    }
   ],
   "source": [
    "# from googlesearch import search\n",
    "import requests\n",
    "from bs4 import BeautifulSoup\n",
    "# from googlesearch import search\n",
    "import re\n",
    "def scrape_search_results(url):\n",
    "   \n",
    "    # Collect text from the top 5 search results\n",
    "    top_results_text = []\n",
    "    print(url)\n",
    "    # # Fetch the content of each search result URL\n",
    "    response = requests.get(url)\n",
    "    soup = BeautifulSoup(response.text, 'html.parser')\n",
    "    \n",
    "    # Find and collect text from relevant HTML elements (e.g., paragraphs)\n",
    "    text = ' '.join([p.get_text() for p in soup.find_all('p')])\n",
    "    \n",
    "    # Add the result text to the list\n",
    "    top_results_text.append(text)\n",
    "    \n",
    "    return top_results_text\n",
    "\n",
    "# Example usage:\n",
    "search_url = 'https://en.wikipedia.org/wiki/Harry_Potter'\n",
    "results = scrape_search_results(search_url)\n",
    "for idx, result in enumerate(results, start=1):\n",
    "    print(f\"Result:\\n {result}\")"
   ]
  },
  {
   "cell_type": "code",
   "execution_count": 15,
   "id": "562260b4",
   "metadata": {},
   "outputs": [],
   "source": [
    "data=results"
   ]
  },
  {
   "cell_type": "code",
   "execution_count": 16,
   "id": "49a5daf8",
   "metadata": {},
   "outputs": [],
   "source": [
    "class Document:\n",
    "    def __init__(self, page_content, metadata=None):\n",
    "        self.page_content = page_content\n",
    "        self.metadata = metadata or {}"
   ]
  },
  {
   "cell_type": "code",
   "execution_count": 17,
   "id": "0364df0f",
   "metadata": {},
   "outputs": [],
   "source": [
    "data = [Document(result) for result in results]"
   ]
  },
  {
   "cell_type": "code",
   "execution_count": null,
   "id": "cd1f3876",
   "metadata": {},
   "outputs": [],
   "source": [
    "data[0].page_content"
   ]
  },
  {
   "cell_type": "markdown",
   "id": "c2faacc1-be29-4d52-a46e-94f5b5b8e728",
   "metadata": {},
   "source": [
    "## Vector Embeddings"
   ]
  },
  {
   "cell_type": "code",
   "execution_count": null,
   "id": "2dcf2cfe-a7aa-4ecf-85e3-f77b9e850514",
   "metadata": {
    "scrolled": true
   },
   "outputs": [],
   "source": [
    "# !ollama pull nomic-embed-text"
   ]
  },
  {
   "cell_type": "code",
   "execution_count": null,
   "id": "39aebbf8-92bf-42e5-951e-40bb458852d5",
   "metadata": {},
   "outputs": [],
   "source": [
    "# !ollama list"
   ]
  },
  {
   "cell_type": "code",
   "execution_count": null,
   "id": "5394d61f-906b-4776-b8b5-9f0045c76193",
   "metadata": {},
   "outputs": [],
   "source": [
    "# %pip install --q chromadb\n",
    "# %pip install --q langchain-text-splitters"
   ]
  },
  {
   "cell_type": "code",
   "execution_count": 4,
   "id": "83a39856-0cc0-4ebe-8024-9db32455a545",
   "metadata": {},
   "outputs": [],
   "source": [
    "from langchain_community.embeddings import OllamaEmbeddings\n",
    "from langchain_text_splitters import RecursiveCharacterTextSplitter\n",
    "from langchain_community.vectorstores import Chroma"
   ]
  },
  {
   "cell_type": "code",
   "execution_count": 18,
   "id": "bad040e2-3abe-4e23-abb9-951b223b9262",
   "metadata": {},
   "outputs": [],
   "source": [
    "# Split and chunk \n",
    "text_splitter = RecursiveCharacterTextSplitter(chunk_size=7500, chunk_overlap=100)\n",
    "chunks = text_splitter.split_documents(data)"
   ]
  },
  {
   "cell_type": "code",
   "execution_count": null,
   "id": "efb11c92-e732-4a88-8f57-57a19b38e383",
   "metadata": {},
   "outputs": [
    {
     "name": "stderr",
     "output_type": "stream",
     "text": [
      "\r",
      "OllamaEmbeddings:   0%|                                                                          | 0/9 [00:00<?, ?it/s]"
     ]
    }
   ],
   "source": [
    "# Add to vector database\n",
    "vector_db = Chroma.from_documents(\n",
    "    documents=chunks, \n",
    "    embedding=OllamaEmbeddings(model=\"nomic-embed-text\",show_progress=True),\n",
    "    collection_name=\"local-rag\"\n",
    ")"
   ]
  },
  {
   "cell_type": "markdown",
   "id": "39eadf50-2f3d-4420-8858-94e9c1682ffa",
   "metadata": {},
   "source": [
    "## Retrieval"
   ]
  },
  {
   "cell_type": "code",
   "execution_count": null,
   "id": "5ec338c4-f282-462f-b0a0-c1899538eb07",
   "metadata": {},
   "outputs": [],
   "source": [
    "from langchain.prompts import ChatPromptTemplate, PromptTemplate\n",
    "from langchain_core.output_parsers import StrOutputParser\n",
    "from langchain_community.chat_models import ChatOllama\n",
    "from langchain_core.runnables import RunnablePassthrough\n",
    "from langchain.retrievers.multi_query import MultiQueryRetriever"
   ]
  },
  {
   "cell_type": "code",
   "execution_count": null,
   "id": "d1d6ceeb-6883-4688-b923-e771c2b2cb07",
   "metadata": {},
   "outputs": [],
   "source": [
    "# LLM from Ollama\n",
    "local_model = \"llama2\"\n",
    "llm = ChatOllama(model=local_model)"
   ]
  },
  {
   "cell_type": "code",
   "execution_count": null,
   "id": "c436d5cd-5dd0-448c-b5c0-6eddab879c2a",
   "metadata": {},
   "outputs": [],
   "source": [
    "QUERY_PROMPT = PromptTemplate(\n",
    "    input_variables=[\"question\"],\n",
    "    template=\"\"\"You are an AI language model assistant. Your task is to generate five\n",
    "    different versions of the given user question to retrieve relevant documents from\n",
    "    a vector database. By generating multiple perspectives on the user question, your\n",
    "    goal is to help the user overcome some of the limitations of the distance-based\n",
    "    similarity search. Provide these alternative questions separated by newlines.\n",
    "    Original question: {question}\"\"\",\n",
    ")"
   ]
  },
  {
   "cell_type": "code",
   "execution_count": null,
   "id": "71e423dc-f632-46f8-9bec-d74cb268ab74",
   "metadata": {},
   "outputs": [],
   "source": [
    "retriever = MultiQueryRetriever.from_llm(\n",
    "    vector_db.as_retriever(), \n",
    "    llm,\n",
    "    prompt=QUERY_PROMPT\n",
    ")\n",
    "\n",
    "# RAG prompt\n",
    "template = \"\"\"Answer the question based ONLY on the following context:\n",
    "{context}\n",
    "Question: {question}\n",
    "\"\"\"\n",
    "\n",
    "prompt = ChatPromptTemplate.from_template(template)"
   ]
  },
  {
   "cell_type": "code",
   "execution_count": null,
   "id": "cb1f308f-8472-4506-9517-d79b61d408f2",
   "metadata": {},
   "outputs": [],
   "source": [
    "chain = (\n",
    "    {\"context\": retriever, \"question\": RunnablePassthrough()}\n",
    "    | prompt\n",
    "    | llm\n",
    "    | StrOutputParser()\n",
    ")"
   ]
  },
  {
   "cell_type": "code",
   "execution_count": null,
   "id": "915fb18b-cb57-42cf-a9b3-c6f95d3c4e32",
   "metadata": {
    "scrolled": true
   },
   "outputs": [],
   "source": [
    "chain.invoke(input(\"\"))"
   ]
  },
  {
   "cell_type": "code",
   "execution_count": null,
   "id": "06c25c1d-d205-409e-90a2-179d0bd7c41a",
   "metadata": {},
   "outputs": [],
   "source": [
    "chain.invoke(\"What are the 5 pillars of global cooperation?\")"
   ]
  },
  {
   "cell_type": "code",
   "execution_count": null,
   "id": "dfe79f21-48aa-4820-aa9f-79f3d1a0a519",
   "metadata": {},
   "outputs": [],
   "source": [
    "# Delete all collections in the db\n",
    "vector_db.delete_collection()"
   ]
  },
  {
   "cell_type": "code",
   "execution_count": null,
   "id": "2663142b",
   "metadata": {},
   "outputs": [],
   "source": []
  }
 ],
 "metadata": {
  "kernelspec": {
   "display_name": "Python 3 (ipykernel)",
   "language": "python",
   "name": "python3"
  },
  "language_info": {
   "codemirror_mode": {
    "name": "ipython",
    "version": 3
   },
   "file_extension": ".py",
   "mimetype": "text/x-python",
   "name": "python",
   "nbconvert_exporter": "python",
   "pygments_lexer": "ipython3",
   "version": "3.11.7"
  }
 },
 "nbformat": 4,
 "nbformat_minor": 5
}
